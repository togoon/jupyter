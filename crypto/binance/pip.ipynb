{
 "cells": [
  {
   "cell_type": "code",
   "execution_count": 2,
   "metadata": {},
   "outputs": [
    {
     "name": "stdout",
     "output_type": "stream",
     "text": [
      "3.9.13 (main, Aug 25 2022, 23:26:10) \n",
      "[GCC 11.2.0] , /home/at/bin/anaconda3/bin/python \n",
      "2023-03-15 17:31:40 *****import**v1.0.1*** \n"
     ]
    }
   ],
   "source": [
    "#!/usr/bin/env python3\n",
    "# coding=utf-8\n",
    "import websocket\n",
    "import time\n",
    "import threading\n",
    "import requests\n",
    "import json\n",
    "import pandas as pd\n",
    "import numpy as np\n",
    "import sqlite3\n",
    "from datetime import datetime, timedelta\n",
    "import hashlib\n",
    "import hmac\n",
    "import math\n",
    "import sys\n",
    "import logging\n",
    "import os\n",
    "import getopt\n",
    "import traceback\n",
    "from scipy import stats\n",
    "from itertools import product as product\n",
    "\n",
    "pd.set_option('display.max_columns', 500)\t# 显示列数\n",
    "pd.set_option('display.width', 1000)\t\t# 显示宽度\n",
    "\n",
    "g_worthDir = '../pkl'  # \n",
    "g_parentDir = '../../..'  # \n",
    "g_dbfile = f\"{g_parentDir}/pkl/hq.db\" # \n",
    "g_name = g_access = 'logic'\n",
    "\n",
    "g_locTimeadj = 28800 # 28800 0\n",
    "g_version = '1.0.1'\n",
    "\n",
    "# df3 =pd.DataFrame(np.random.randn(8,4), columns=list('ABCD') )\n",
    "\n",
    "# print(f'{os.path.basename(__file__)}:{sys._getframe().f_code.co_name}:{sys._getframe().f_lineno}')\n",
    "print(f\"{sys.version} , {sys.executable} \")\n",
    "print(f\"{time.strftime('%Y-%m-%d %H:%M:%S',time.localtime(time.time()+g_locTimeadj))} *****import**v{g_version}*** \")"
   ]
  },
  {
   "cell_type": "code",
   "execution_count": null,
   "metadata": {},
   "outputs": [],
   "source": [
    "iniTime = datetime.now()\n",
    "time.sleep(10) # 60*60  3*60\n",
    "nowTime = datetime.now()\n",
    "diffTime = (nowTime - iniTime)\n",
    "\n",
    "print(f\"{diffTime = },  {diffTime.seconds = },  {diffTime.min = },  {diffTime.days = },  {diffTime.max = }\")\n"
   ]
  },
  {
   "cell_type": "code",
   "execution_count": null,
   "metadata": {},
   "outputs": [],
   "source": [
    "curSec = int(time.strftime(\"%s\"))\n",
    "curSec2 = int(time.time())\n",
    "print(f\"{curSec = } , {curSec2 = } \")"
   ]
  },
  {
   "cell_type": "code",
   "execution_count": null,
   "metadata": {},
   "outputs": [],
   "source": [
    "print(dir(diffTime))\n",
    "print(f\"{diffTime = },  {diffTime.seconds = },  {diffTime.min = },  {diffTime.days = },  {diffTime.max = }\")"
   ]
  },
  {
   "cell_type": "code",
   "execution_count": null,
   "metadata": {},
   "outputs": [],
   "source": [
    "d={'x':[0,0,1,2,1,0,0,4,4,0,0]}\n",
    "df=pd.DataFrame(d)\n",
    "\n",
    "print(f\"{df = } \\n\")\n",
    "\n",
    "i=0\n",
    "x=df['x'][i]\n",
    "\n",
    "\n",
    "while x==0:\n",
    "    del df['x'][i]\n",
    "    i+=1\n",
    "    x=df['x'][i]\n",
    "df=df[i:] \n",
    "\n",
    "print(f\"{df = }\")\n"
   ]
  },
  {
   "cell_type": "code",
   "execution_count": 15,
   "metadata": {},
   "outputs": [
    {
     "name": "stdout",
     "output_type": "stream",
     "text": [
      "  Process_ID       Date\n",
      "0   12345-98 2021-06-30\n",
      "1   23547-75 2022-08-10\n",
      "2   85763-99 2023-02-15\n",
      "3   44231-56 2023-10-02\n",
      "4   78456-00 2024-04-03\n",
      "5   53218-87 2021-06-25\n"
     ]
    }
   ],
   "source": [
    "data={'Process_ID':['12345-98', '23547-75', '85763-99','44231-56','78456-00','53218-87'],\n",
    "     'Date': ['2021-06-30','2022-08-10','2023-02-15','2023-10-02','2024-04-03','2021-06-25']}\n",
    "\n",
    "df=pd.DataFrame(data)\n",
    "\n",
    "df['Date']=pd.to_datetime(df['Date'])\n",
    "\n",
    "print(df)"
   ]
  },
  {
   "cell_type": "code",
   "execution_count": 16,
   "metadata": {},
   "outputs": [
    {
     "name": "stdout",
     "output_type": "stream",
     "text": [
      "  Process_ID       Date    new\n",
      "0   12345-98 2021-06-30  False\n",
      "1   23547-75 2022-08-10  False\n",
      "2   85763-99 2023-02-15   True\n",
      "3   44231-56 2023-10-02  False\n",
      "4   78456-00 2024-04-03  False\n",
      "5   53218-87 2021-06-25  False\n"
     ]
    }
   ],
   "source": [
    "# df['new'] = df['Date'].apply(lambda x: True if \n",
    "#     (x - pd.Timestamp.now() < pd.Timedelta('30 days')) \n",
    "#     and x > pd.Timestamp.now() else False)\n",
    "\n",
    "df['new'] = df['Date'].apply(lambda x: True if ((pd.Timestamp.now() - x) < pd.Timedelta('30 days') and pd.Timestamp.now() > x )  else False)\n",
    "\n",
    "print(df)"
   ]
  },
  {
   "cell_type": "code",
   "execution_count": 10,
   "metadata": {},
   "outputs": [
    {
     "name": "stdout",
     "output_type": "stream",
     "text": [
      "pd.Timestamp.now() = Timestamp('2023-03-15 09:38:33.660427') , 30 days 00:00:00\n",
      "30 days 00:00:00\n"
     ]
    }
   ],
   "source": [
    "print(f\"{pd.Timestamp.now() = } , {pd.Timedelta('30 days')}\")\n",
    "print( pd.Timedelta('30days') )"
   ]
  },
  {
   "cell_type": "code",
   "execution_count": 1,
   "metadata": {},
   "outputs": [
    {
     "data": {
      "text/plain": [
       "'argon2:$argon2id$v=19$m=10240,t=10,p=8$q1VncAWCktr946a4S9PqfA$inDVF7tDFAIdptOh2VAcXHM8xOWQ8V0CLfjhszyYJ8w'"
      ]
     },
     "execution_count": 1,
     "metadata": {},
     "output_type": "execute_result"
    }
   ],
   "source": [
    "# notebook pwd\n",
    "from notebook.auth import passwd # \n",
    "passwd()"
   ]
  },
  {
   "cell_type": "code",
   "execution_count": null,
   "metadata": {},
   "outputs": [],
   "source": [
    "# print(os.getcwd()) "
   ]
  },
  {
   "cell_type": "code",
   "execution_count": null,
   "metadata": {},
   "outputs": [],
   "source": [
    "# df_trade.to_pickle(f'{g_dir}/tradedf.pkl' )\n",
    "df_tra = pd.read_pickle(f\"/workspaces/jupyter/tmp/tradedf.pkl\" )\n",
    "\n",
    "print(f\"{df_tra.shape}\")\n",
    "# print(f\"{df_tra}\")\n",
    "display(df_tra)"
   ]
  },
  {
   "cell_type": "code",
   "execution_count": null,
   "metadata": {},
   "outputs": [],
   "source": [
    "rt_df = pd.DataFrame([{'asset': 2, 'update': time.strftime('%Y%m%d %H:%M:%S')}])\n",
    "# print(type(rt_df), len(rt_df) )\n",
    "# print(f\" {rt_df.info}\" )\n",
    "# display(rt_df)\n",
    "print(f\"rt_df :\\n{rt_df}\")\n",
    "\n",
    "print(f\"{rt_df.columns}\")\n",
    "print(f\"{rt_df.index}\")\n"
   ]
  },
  {
   "cell_type": "code",
   "execution_count": null,
   "metadata": {},
   "outputs": [],
   "source": [
    "dict = {'a':'apple','b':'banana'}\n",
    "df = pd.DataFrame([dict])\n",
    "\n",
    "print(f\"df :\\n{df.b}\")\n",
    "\n",
    "# print(f\"{df.columns}\")\n",
    "# print(f\"{df.index}\")"
   ]
  },
  {
   "cell_type": "code",
   "execution_count": null,
   "metadata": {},
   "outputs": [],
   "source": [
    "df2 = pd.DataFrame.from_dict({\n",
    " 'apple': 3,\n",
    " 'banana': 5,\n",
    " 'mango': 7,\n",
    " 'apricot': 1,\n",
    " 'kiwi': 8,\n",
    " 'orange': 3}, orient='index').rename(columns={0:'Qunatity'})\n",
    "\n",
    "print(f\"df2 :\\n{df2}\")\n",
    "\n",
    "# print(f\"{df2.columns}\")\n",
    "# print(f\"{df2.index}\")"
   ]
  },
  {
   "cell_type": "code",
   "execution_count": null,
   "metadata": {},
   "outputs": [],
   "source": [
    "# df3 = pd.DataFrame(np.arange(40).reshape(10,4),index=pd.date_range('2022-01-01',periods=10),columns=list('ABCD'))\n",
    "df3 =pd.DataFrame(np.random.randn(8,4), columns=list('ABCD') )\n",
    "\n",
    "print(f\"df3 :\\n{df3.A}\")\n",
    "\n",
    "# print(f\"{df3.columns}\")\n",
    "# print(f\"{df3.index}\")\n"
   ]
  },
  {
   "cell_type": "code",
   "execution_count": null,
   "metadata": {},
   "outputs": [],
   "source": [
    "# package\n",
    "import os\n",
    "\n",
    "try:\n",
    "    import pandas as pd\n",
    "    import time\n",
    "except:\n",
    "    # !pip install pandas numpy matplotlib scipy tqdm requests_toolbelt pymysql sqlalchemy flask pandas_datareader  torch  pymssql EMD-signal websocket-client ccxt statsmodels  sklearn\n",
    "\n",
    "    os.system('pip install pandas numpy matplotlib scipy tqdm pymysql sqlalchemy ')\n",
    "    os.system('pip install requests_toolbelt flask pandas_datareader sshtunnel torch ')\n",
    "    os.system('pip install pymssql EMD-signal websocket-client ccxt statsmodels sklearn')\n",
    "else:\n",
    "    print( f'{time.strftime(\"%Y-%m-%d %H:%M:%S\",time.localtime(time.time()+28800))}')\n"
   ]
  },
  {
   "cell_type": "code",
   "execution_count": null,
   "metadata": {},
   "outputs": [],
   "source": [
    "import matplotlib.pyplot as plt\n",
    "from scipy import stats\n",
    "rng = np.random.default_rng()\n",
    "x = rng.random(10)\n",
    "y = 1.6*x + rng.random(10)\n",
    "res = stats.linregress(x, y) # 线性拟合\n",
    "\n",
    "print(f\"res: {res}\")\n",
    "\n",
    "# LinregressResult(斜率slope=1.4609737282140889, 截距intercept=0.6260166856203904, 皮尔逊相关系数rvalue=0.76760585460041 rvalue 的平方等于决定系数, 对零假设为斜率为零的假设检验的p值pvalue=0.009535323744696659, 估计的斜率(梯度)的标准误差stderr=0.43128508714183683, 估计的截距的标准误差intercept_stderr=0.2307834268202402)\n",
    "\n",
    "print(f\"拟合度 R-squared: {res.rvalue**2:.6f}\")\n",
    "\n",
    "# ret = (result_[0]**2)*(result_[2]**2)\n",
    "print(f\"(res[0]**2)*(res[2]**2): {(res[0])} **2 * {(res[2])} **2 = {(res[0]**2)*(res[2]**2)}\")\n"
   ]
  },
  {
   "cell_type": "code",
   "execution_count": null,
   "metadata": {},
   "outputs": [],
   "source": [
    "df = pd.DataFrame()\n",
    "# df['index'] = range(0, 4059)\n",
    "df['index'] = np.nan\n",
    "\n",
    "print(f\"df :\\n{df}\")\n",
    "# print(f\"range(0, 4059) :\\n{range(0, 4059)}\")\n"
   ]
  },
  {
   "cell_type": "code",
   "execution_count": null,
   "metadata": {},
   "outputs": [],
   "source": [
    "reg_wid = 10 + (np.arange(10)) * 5\n",
    "\n",
    "stat_wid = 60 + (np.arange(10)) * 30\n",
    "\n",
    "threshold = 0.5 + (np.arange(20)) * 0.1\n",
    "\n",
    "print(f\"reg_wid :\\n{reg_wid}\")\n",
    "print(f\"stat_wid :\\n{stat_wid}\")\n",
    "print(f\"threshold:\\n{threshold}\")\n",
    "\n",
    "df_para = pd.DataFrame(list(product(reg_wid, stat_wid,threshold)))\n",
    "\n",
    "print(f\"df_para:\\n{df_para}\") # 10*10*20  :  10   60  0.5\n",
    "\n",
    "print(f\"df_para.iloc[621] : \\n{df_para.iloc[621]}\")  # 25  90  0.6\n",
    "\n"
   ]
  },
  {
   "cell_type": "code",
   "execution_count": null,
   "metadata": {},
   "outputs": [],
   "source": [
    "import talib\n",
    "# import mpl_finance as mpf\n",
    "import mplfinance as mpf\n",
    "import warnings\n",
    "import akshare as ak"
   ]
  },
  {
   "cell_type": "code",
   "execution_count": null,
   "metadata": {},
   "outputs": [],
   "source": [
    "import akshare as ak\n",
    "\n",
    "stock_zh_a_hist_df = ak.stock_zh_a_hist(symbol=\"000001\", period=\"daily\", start_date=\"20210301\", end_date='20210907', adjust=\"qfq\")\n",
    "print(stock_zh_a_hist_df)"
   ]
  },
  {
   "cell_type": "code",
   "execution_count": null,
   "metadata": {},
   "outputs": [],
   "source": [
    "stock_zh_a_daily_qfq_df = ak.stock_zh_a_daily(symbol=\"sz000002\", start_date=\"20221003\", end_date=\"20221106\", adjust=\"qfq\")\n",
    "print(stock_zh_a_daily_qfq_df)"
   ]
  },
  {
   "cell_type": "code",
   "execution_count": null,
   "metadata": {},
   "outputs": [],
   "source": [
    "import sys\n",
    "\n",
    "print(sys.version)\n",
    "print(sys.executable)"
   ]
  },
  {
   "cell_type": "code",
   "execution_count": null,
   "metadata": {},
   "outputs": [],
   "source": [
    "import sklearn\n",
    "print(\"sklearn :\" , sklearn.__version__)\n",
    "\n",
    "from sklearn.model_selection import train_test_split\n",
    "\n",
    "from sklearn import model_selection"
   ]
  },
  {
   "cell_type": "code",
   "execution_count": null,
   "metadata": {},
   "outputs": [],
   "source": [
    "from datetime import datetime, timedelta\n",
    "# LOCAL_TIMEZONE = datetime.datetime.now().astimezone().tzinfo  #datetime.timezone.utc\n",
    "print(f\"{datetime.now().astimezone().tzinfo}\")\n",
    "print(f\"{datetime.utcnow().astimezone().utcoffset().total_seconds()}\")\n",
    "print(f\"{28800 - datetime.utcnow().astimezone().utcoffset().total_seconds()}\")\n",
    "\n",
    "secret_key = \"4f58b518cecdfe9c574cd2aa9cbbea429796673d6226424bdda1f0155cd78876\"\n",
    "print(f\"{secret_key[:4]}\")\n",
    "\n",
    "serverUrl = 'http://testnet.binancefuture.com'\n",
    "serverUrl = 'http://www.binance.com'\n",
    "\n",
    "print(f\"{serverUrl.split('.')[1] }\")\n"
   ]
  },
  {
   "cell_type": "code",
   "execution_count": null,
   "metadata": {},
   "outputs": [],
   "source": [
    "from datetime import datetime, timedelta\n",
    "import time\n",
    "\n",
    "n1 = datetime.now()\n",
    "print(n1, n1.strftime(\"%Y%m%d %H:%M:%S %s %Z \"), datetime.now().strftime(\"%Y%m%d %H:%M:%S %s %Z \"))  # datetime.now().strftime(\"%Y%m%d\")  20230110 04:05:01 1673323501\n",
    "print(time.mktime(n1.timetuple())) # 1673323501.0\n",
    "\n",
    "print(f\"{28800 - datetime.utcnow().astimezone().utcoffset().total_seconds()}\") #时差 28800.0\n",
    "\n",
    "print(0, datetime.strptime(datetime.now().strftime(\"%Y%m%d\"), \"%Y%m%d\").strftime(\"%Y%m%d %H:%M:%S %s %Z \")  ) # 0 20230110 00:00:00 1673308800 \n",
    "\n",
    "print(int(datetime.strptime(datetime.now().strftime(\"%Y%m%d\"), \"%Y%m%d\").strftime(\"%s\")) ) # 1673308800\n",
    "\n",
    "print(1, int(datetime.strptime(\"20220914\", \"%Y%m%d\").strftime(\"%s\")) ) # 1 1663113600\n",
    "print(2, (datetime.strptime(\"20220914\", \"%Y%m%d\") + timedelta(days=2) ).strftime(\"%s\") )  # 2 1663286400\n",
    "print(3,  ( datetime.fromtimestamp(1663113600)+ timedelta(days=3) ).strftime(\"%s\")   ) #  3 1663372800\n",
    "\n",
    "print(4, datetime.fromtimestamp(1675491616)) # 4 2022-09-14 00:09:59\n",
    "print(5, datetime.fromtimestamp(1675786281)) #startSec=1663027200, endSec=1663113600,  # 5 2022-09-14 00:00:00\n",
    "\n",
    "print(6, datetime.fromtimestamp(1656345600999//1000 +28800 )) # 6 2022-06-28 00:00:00\n",
    "print(7, datetime.fromtimestamp(1664312400000//1000 +28800))   # 7 2022-09-28 05:00:00\n",
    "print(8, datetime.fromtimestamp(1658975892471//1000))   # 8 2022-07-28 02:38:12\n",
    "print(9, datetime.fromtimestamp(1667810456119//1000))   # 9 2022-11-07 08:40:56 \n",
    "\n",
    "print(10, (datetime.now()- timedelta(days=10) ).strftime(\"%s000\") )  # 10 1672459501000\n"
   ]
  },
  {
   "cell_type": "code",
   "execution_count": null,
   "metadata": {},
   "outputs": [],
   "source": [
    "# print(f'{ int(time.time() ) }')\n",
    "\n",
    "curDateTime = datetime.fromtimestamp( 1663113600//1000 +28800).strftime('%Y%m%d %H%M%S %w')\n",
    "\n",
    "hhmm = curDateTime[9:13]\n",
    "weekday = curDateTime[-1:]\n",
    "\n",
    "print(f\"{curDateTime =} , {hhmm =} , {weekday =} , \")\n",
    "\n",
    "\n",
    "g_name = 'similarity'\n",
    "print(f\"{g_name[:2].upper() }\")\n"
   ]
  },
  {
   "cell_type": "code",
   "execution_count": null,
   "metadata": {},
   "outputs": [],
   "source": [
    "def fun_upvar(idx, df):\n",
    "    idx = [int(i) for i in idx]\n",
    "    dfs=pd.DataFrame(df['pct'][idx])\n",
    "    ret = np.std(dfs['pct'][dfs['pct']>0])\n",
    "    return ret"
   ]
  },
  {
   "cell_type": "code",
   "execution_count": null,
   "metadata": {},
   "outputs": [],
   "source": [
    "def fun_upvol(idx, df):\n",
    "    idx = [int(i) for i in idx]\n",
    "    dfs=pd.DataFrame(df.iloc[idx])\n",
    "    ret = np.sum(dfs['amount'][dfs['pct']>0])/np.sum(dfs['amount'])\n",
    "    return ret\n",
    "def fun_downvar(idx, df):\n",
    "    idx = [int(i) for i in idx]\n",
    "    dfs=pd.DataFrame(df['pct'][idx])\n",
    "    ret = np.std(dfs['pct'][dfs['pct']<0])\n",
    "    return ret"
   ]
  },
  {
   "cell_type": "code",
   "execution_count": null,
   "metadata": {},
   "outputs": [],
   "source": [
    "###%pip package###whl###module###\n",
    "try:\n",
    "    import pandas as pd\n",
    "    import numpy as np\n",
    "    import time\n",
    "    from datetime import datetime, timedelta\n",
    "except:\n",
    "    %pip install pandas numpy matplotlib scipy tqdm requests_toolbelt pymysql sqlalchemy flask pandas_datareader  torch  pymssql EMD-signal websocket-client ccxt statsmodels  sklearn sshtunnel\n",
    "else:\n",
    "    print( f'{time.strftime(\"%Y-%m-%d %H:%M:%S\",time.localtime(time.time()+28800))}')    "
   ]
  },
  {
   "cell_type": "code",
   "execution_count": null,
   "metadata": {},
   "outputs": [],
   "source": [
    "# !pip install -r requirements.txt\n",
    "\n",
    "%pip install pandas numpy matplotlib scipy tqdm requests_toolbelt pymysql sqlalchemy flask pandas_datareader  torch  pymssql EMD-signal websocket-client ccxt statsmodels  sklearn pycryptodome jwt werkzeug  "
   ]
  },
  {
   "cell_type": "code",
   "execution_count": null,
   "metadata": {},
   "outputs": [],
   "source": [
    "%pip install pycryptodome\n",
    "# !cal"
   ]
  },
  {
   "cell_type": "code",
   "execution_count": null,
   "metadata": {},
   "outputs": [],
   "source": [
    "df = pd.DataFrame(np.arange(40).reshape(10,4),index=pd.date_range('2022-01-01',periods=10),columns=list('ABCD'))\n",
    "df =pd.DataFrame(np.random.randn(8,4), columns=['A','B','C','D'])\n",
    "df =pd.DataFrame(np.array([i for i in range(1,41)]).reshape(10,4), columns=['A','B','C','D'])\n",
    "\n",
    "df[ df[\"D\"] > 1000  ].index.tolist()[-1] = 47\n",
    "df.iloc[-1].index.tolist() = ['A', 'B', 'C', 'D', 'index', 'idx']"
   ]
  },
  {
   "cell_type": "code",
   "execution_count": null,
   "metadata": {},
   "outputs": [],
   "source": [
    "df =pd.DataFrame(np.array([i for i in range(1,1153)]).reshape(288,4), columns=['A','B','C','D'])\n",
    "print(f'{df}')\n",
    "\n",
    "print( df[ df[\"D\"] > 1000  ].index.tolist()) # = 47\n",
    "print( df[ df[\"D\"] > 1000  ].index.tolist()[-1]) # = 47\n",
    "print( df[ df[\"D\"] > 2000  ].index.tolist().empty() ) # = 47\n",
    "\n",
    "print( len(df.index) - df[df['D'] > 2000 ].index.tolist()[-1]  )\n",
    "# (len(df_panel.index) - df_panel[df_panel['factor'] > float(thd) ].index.tolist()[-1] == wid2 -1)"
   ]
  },
  {
   "cell_type": "code",
   "execution_count": null,
   "metadata": {},
   "outputs": [],
   "source": [
    "\n",
    "list_2 = [] # empty  empty\n",
    "if list_2:\n",
    "    print('list_2 is none')"
   ]
  },
  {
   "cell_type": "code",
   "execution_count": null,
   "metadata": {},
   "outputs": [],
   "source": [
    "df =pd.DataFrame(np.array([i for i in range(-10,30)]).reshape(10,4), columns=['A','B','C','D'])\n",
    "\n",
    "# print(df)\n",
    "df['A0'] = df.A.shift(0)\n",
    "df['A1'] = df.A.shift(1)  # +下移\n",
    "df['A_1'] = df.A.shift(-1) # -上移\n",
    "df['C_sign'] = np.sign(df['C'])\n",
    "df['E'] = np.nan\n",
    "\n",
    "print(f\"{ type(df['E'].iloc[-1])} , {df['E'].iloc[-1]}\")\n",
    "if not np.isnan(df['E'].iloc[-1]):\n",
    "    print(1)\n",
    "else:\n",
    "    print(2)\n",
    "\n",
    "\n",
    "# print(f\"{len(df)}\")\n",
    "print(df)\n",
    "\n",
    "curSign = 0 if np.isnan(df['A_1'].iloc[-1]) else int(df['A_1'].iloc[-1])\n",
    "print(f\"{df['A_1'].iloc[-1] =} , {curSign = }\")\n",
    "\n",
    "curSign = 0 if np.isnan(df['A_1'].iloc[-2]) else int(df['A_1'].iloc[-2])\n",
    "print(f\"{df['A_1'].iloc[-2] =} , {curSign = }\")"
   ]
  },
  {
   "cell_type": "code",
   "execution_count": null,
   "metadata": {},
   "outputs": [],
   "source": [
    "totalWorthdf2 = pd.read_pickle('/workspaces/jupyter/tmp/totalWorthdf2.pkl') \n",
    "# ukdf.to_pickle(f\"{g_worthDir}/uk4hdf.pkl\" )\n"
   ]
  },
  {
   "cell_type": "code",
   "execution_count": null,
   "metadata": {},
   "outputs": [],
   "source": [
    "print(totalWorthdf2.shape)\n",
    "print(totalWorthdf2.head(2))\n",
    "print(totalWorthdf2.tail(2))\n"
   ]
  },
  {
   "cell_type": "code",
   "execution_count": null,
   "metadata": {},
   "outputs": [],
   "source": [
    "Worth_df = totalWorthdf2[['dateTime' , 'totalworth' , 'time' ]]\n",
    "print(Worth_df.shape)\n",
    "print(Worth_df.head(2))\n",
    "print(Worth_df.tail(2))\n",
    "Worth_df.to_csv('/workspaces/jupyter/tmp/similarity2_5min.csv')\n"
   ]
  },
  {
   "cell_type": "code",
   "execution_count": null,
   "metadata": {},
   "outputs": [],
   "source": [
    "# simi_df = totalWorthdf2[totalWorthdf2['name']=='testStrategy']\n",
    "simi_df = totalWorthdf2[['date' , 'totalworth' , 'time' ]].groupby('date').last()\n",
    "print(simi_df.shape)\n",
    "print(simi_df.head(2))\n",
    "print(simi_df.tail(2))\n",
    "simi_df.to_csv('/workspaces/jupyter/tmp/similarity2_day.csv')"
   ]
  }
 ],
 "metadata": {
  "kernelspec": {
   "display_name": "Python 3",
   "language": "python",
   "name": "python3"
  },
  "language_info": {
   "codemirror_mode": {
    "name": "ipython",
    "version": 3
   },
   "file_extension": ".py",
   "mimetype": "text/x-python",
   "name": "python",
   "nbconvert_exporter": "python",
   "pygments_lexer": "ipython3",
   "version": "3.9.13"
  },
  "orig_nbformat": 4,
  "vscode": {
   "interpreter": {
    "hash": "9cf7d99a2138d16bfc4f40064505db242ca26c197d6ac197cab9340fe6c17a36"
   }
  }
 },
 "nbformat": 4,
 "nbformat_minor": 2
}
