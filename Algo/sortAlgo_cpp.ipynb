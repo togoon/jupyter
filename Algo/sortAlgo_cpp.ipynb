{
 "cells": [
  {
   "cell_type": "code",
   "execution_count": 2,
   "metadata": {
    "vscode": {
     "languageId": "cpp"
    }
   },
   "outputs": [
    {
     "name": "stderr",
     "output_type": "stream",
     "text": [
      "input_line_10:4:1: error: function definition is not allowed here\n",
      "{\n",
      "^\n",
      "input_line_10:18:16: error: use of undeclared identifier 'get_local_time'\n",
      "p_local_time = get_local_time(local_time_str, sizeof(local_time_str), &current_time_tmp);\n",
      "               ^\n"
     ]
    },
    {
     "ename": "Interpreter Error",
     "evalue": "",
     "output_type": "error",
     "traceback": [
      "Interpreter Error: "
     ]
    }
   ],
   "source": [
    "#include <iostream>\n",
    "#include <sys/time.h>\n",
    "#include <ctime>\n",
    "\n",
    "using namespace std;\n",
    "\n",
    "static char* get_local_time(char *time_str, int len, struct timeval *tv) \n",
    "{\n",
    "    struct tm* ptm;    \n",
    "    char time_string[40]; \n",
    "    long milliseconds; \n",
    "    ptm = localtime (&(tv->tv_sec));                  \n",
    "    strftime(time_string, sizeof(time_string), \"%Y-%m-%d %H:%M:%S\", ptm); // Output format: 2018-12-09 10:52:57.200  \n",
    "    milliseconds = tv->tv_usec/1000;                  \n",
    "    snprintf (time_str, len, \"%s.%03ld\", time_string, milliseconds);\n",
    "    return time_str; \n",
    "}\n",
    "\n",
    "char local_time_str[128];\n",
    "timeval current_time_tmp;\n",
    "gettimeofday(&current_time_tmp, NULL);\n",
    "char *p_local_time = NULL;\n",
    "p_local_time = get_local_time(local_time_str, sizeof(local_time_str), &current_time_tmp);\n",
    "printf(\"current_time_tmp %s\\n\", p_local_time);"
   ]
  },
  {
   "cell_type": "code",
   "execution_count": 5,
   "metadata": {
    "vscode": {
     "languageId": "cpp"
    }
   },
   "outputs": [
    {
     "name": "stdout",
     "output_type": "stream",
     "text": [
      "current_time_tmp 2023-03-14 01:02:53.343\n"
     ]
    }
   ],
   "source": []
  }
 ],
 "metadata": {
  "kernelspec": {
   "display_name": "C++17",
   "language": "C++17",
   "name": "xcpp17"
  },
  "language_info": {
   "codemirror_mode": "text/x-c++src",
   "file_extension": ".cpp",
   "mimetype": "text/x-c++src",
   "name": "C++17",
   "version": "17"
  },
  "orig_nbformat": 4
 },
 "nbformat": 4,
 "nbformat_minor": 2
}
